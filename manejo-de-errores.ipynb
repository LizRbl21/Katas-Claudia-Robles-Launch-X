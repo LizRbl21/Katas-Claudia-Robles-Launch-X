{
 "cells": [
  {
   "cell_type": "markdown",
   "metadata": {},
   "source": [
    "# Generación de excepciones"
   ]
  },
  {
   "cell_type": "markdown",
   "metadata": {},
   "source": [
    "Los astronautas limitan su uso de agua a unos 11 litros al día. Vamos a crear una función que, con base al número de astronautas, pueda calcular la cantidad de agua quedará después de un día o más:"
   ]
  },
  {
   "cell_type": "code",
   "execution_count": null,
   "metadata": {},
   "outputs": [],
   "source": [
    "def uso_agua(astro, uso_agua, dias):\n",
    "    uso = astro * 11\n",
    "    uso_total = uso * dias\n",
    "    resul_agua = uso_agua - uso_total\n",
    "    if resul_agua < 0:\n",
    "        raise RuntimeError(f\"Ya no queda suficiente agua para {astro} astronautas despues de {dias} dias, corren peligro!\")\n",
    "    return f\"El total de agua resultante de {dias} dias es: {resul_agua} lt\""
   ]
  },
  {
   "cell_type": "markdown",
   "metadata": {},
   "source": [
    "PruProbemos con cinco astronautas, 100 litros de agua sobrante y dos días:"
   ]
  },
  {
   "cell_type": "code",
   "execution_count": null,
   "metadata": {},
   "outputs": [],
   "source": [
    "uso_agua(5, 100, 2)"
   ]
  },
  {
   "cell_type": "markdown",
   "metadata": {},
   "source": [
    "# Para cuando no se ingresen los datos correctos"
   ]
  },
  {
   "cell_type": "code",
   "execution_count": null,
   "metadata": {},
   "outputs": [],
   "source": [
    "def agua_re(ast, agua_qued, dias2):\n",
    "    for argument in [ast, agua_qued, dias2]:\n",
    "        try:\n",
    "            # If argument is an int, the following operation will work\n",
    "            argument / 10\n",
    "        except TypeError:\n",
    "            # TypError will be raised only if it isn't the right type \n",
    "            # Raise the same exception but with a better error message\n",
    "            raise TypeError(f\"Los argumentos deben ser numero, no de tipo '{argument}'\")\n",
    "    uso2 = ast * 11\n",
    "    uso_total = uso2 * dias2\n",
    "    agua_usada = agua_qued - uso_total\n",
    "    if agua_usada < 0:\n",
    "        raise RuntimeError(f\"Ya no queda suficiente agua para {ast} astronautas despues de {dias2} dias, corren peligro!!\")\n",
    "    return f\"El total de agua resultante de {dias2} dias es: {agua_usada} lt\""
   ]
  },
  {
   "cell_type": "code",
   "execution_count": null,
   "metadata": {},
   "outputs": [],
   "source": [
    "agua_re(\"3\", \"200\", None)"
   ]
  }
 ],
 "metadata": {
  "interpreter": {
   "hash": "d5767a6f2241de01cec10b5f89e84277b52dbdd3eff471e450a83640df2db889"
  },
  "kernelspec": {
   "display_name": "Python 3.9.6 64-bit",
   "language": "python",
   "name": "python3"
  },
  "language_info": {
   "codemirror_mode": {
    "name": "ipython",
    "version": 3
   },
   "file_extension": ".py",
   "mimetype": "text/x-python",
   "name": "python",
   "nbconvert_exporter": "python",
   "pygments_lexer": "ipython3",
   "version": "3.9.6"
  },
  "orig_nbformat": 4
 },
 "nbformat": 4,
 "nbformat_minor": 2
}
