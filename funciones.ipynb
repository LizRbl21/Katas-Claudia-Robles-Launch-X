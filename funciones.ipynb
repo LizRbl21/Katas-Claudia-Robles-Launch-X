{
 "cells": [
  {
   "cell_type": "markdown",
   "metadata": {},
   "source": [
    "# Ejercicio: Uso de funciones en Python\n",
    "# Función para leer 3 tanques de combustible y muestre el promedio"
   ]
  },
  {
   "cell_type": "code",
   "execution_count": 197,
   "metadata": {},
   "outputs": [],
   "source": [
    "def combustible(tanque1, tanque2, tanque3):\n",
    "    promedio=round(((tanque1 + tanque2 + tanque3)/3),2)\n",
    "    return promedio"
   ]
  },
  {
   "cell_type": "markdown",
   "metadata": {},
   "source": [
    "# Llamamos a la función que genera el reporte print(funcion(tanque1, tanque2, tanque3))"
   ]
  },
  {
   "cell_type": "code",
   "execution_count": 198,
   "metadata": {},
   "outputs": [
    {
     "name": "stdout",
     "output_type": "stream",
     "text": [
      "El promedio de combustible es: 26.67\n"
     ]
    }
   ],
   "source": [
    "print(f\"El promedio de combustible es: {combustible(15, 20, 45)}\")"
   ]
  },
  {
   "cell_type": "markdown",
   "metadata": {},
   "source": [
    "# Función promedio "
   ]
  },
  {
   "cell_type": "code",
   "execution_count": 199,
   "metadata": {},
   "outputs": [],
   "source": [
    "def prom(*args):\n",
    "    suma=sum(args)\n",
    "    resul=round((suma/len(args)),2)\n",
    "    return resul"
   ]
  },
  {
   "cell_type": "markdown",
   "metadata": {},
   "source": [
    "# Actualiza la función"
   ]
  },
  {
   "cell_type": "code",
   "execution_count": 200,
   "metadata": {},
   "outputs": [
    {
     "name": "stdout",
     "output_type": "stream",
     "text": [
      "El resultado del reporte es: 28.33\n"
     ]
    }
   ],
   "source": [
    "print(f\"El resultado del reporte es: {prom(17, 18, 50)}\")"
   ]
  },
  {
   "cell_type": "markdown",
   "metadata": {},
   "source": [
    "# Ejercicio 2: Trabajo con argumentos de palabra clave\n",
    "# Función con un informe preciso de la misión. Considera hora de prelanzamiento, tiempo de vuelo, destino, tanque externo y tanque interno"
   ]
  },
  {
   "cell_type": "code",
   "execution_count": 201,
   "metadata": {},
   "outputs": [
    {
     "name": "stdout",
     "output_type": "stream",
     "text": [
      "\tLugar: Marte\n",
      "    \tPrelanzamiento: 15 min\n",
      "    \tTiempo: 16 min\n",
      "    \tTanque Interno: 48 lt\n",
      "    \tTanque Externo: 50 lt\n",
      "\n",
      "    \tTiempo total = 31 min\n",
      "    \tCombustible = 98 lt\n"
     ]
    }
   ],
   "source": [
    "def informe1(prelan, t_vuelo, destino, tanque_ex, tanque_in):\n",
    "    tot = f\"\"\"\\tLugar: {destino}\n",
    "    \\tPrelanzamiento: {prelan} min\n",
    "    \\tTiempo: {t_vuelo} min\n",
    "    \\tTanque Interno: {tanque_in} lt\n",
    "    \\tTanque Externo: {tanque_ex} lt\n",
    "\n",
    "    \\tTiempo total = {prelan+t_vuelo} min\n",
    "    \\tCombustible = {tanque_ex+tanque_in} lt\"\"\"\n",
    "    return tot\n",
    "\n",
    "print(informe1(15,16,\"Marte\",50,48))"
   ]
  },
  {
   "cell_type": "markdown",
   "metadata": {},
   "source": [
    "# Escribe tu nueva función de reporte considerando lo anterior"
   ]
  },
  {
   "cell_type": "code",
   "execution_count": 202,
   "metadata": {},
   "outputs": [
    {
     "name": "stdout",
     "output_type": "stream",
     "text": [
      "Lugar: Marte\n",
      "tanque_externo = 50\n",
      "tanque_interno = 48\n",
      "Total de combustible = 98\n",
      "Total de combustible = 31\n"
     ]
    }
   ],
   "source": [
    "def informe2( destino,*time, **combustible):\n",
    "    tot2 = f\"Lugar: {destino}\"\n",
    "    combustible1=combustible.values()\n",
    "    total_combust=0\n",
    "    for i in combustible1:\n",
    "        total_combust= total_combust+i\n",
    "    for z, y in combustible.items():\n",
    "        tot2 += f\"\\n{z} = {y}\"\n",
    "    tot2 += f\"\\nTotal de combustible = {total_combust}\"\n",
    "    tot2 += f\"\\nTotal de combustible = {sum(time)}\"\n",
    "    return tot2\n",
    "\n",
    "print(informe2(\"Marte\",15, 16, tanque_externo=50,tanque_interno=48))"
   ]
  }
 ],
 "metadata": {
  "interpreter": {
   "hash": "d5767a6f2241de01cec10b5f89e84277b52dbdd3eff471e450a83640df2db889"
  },
  "kernelspec": {
   "display_name": "Python 3.9.6 64-bit",
   "language": "python",
   "name": "python3"
  },
  "language_info": {
   "codemirror_mode": {
    "name": "ipython",
    "version": 3
   },
   "file_extension": ".py",
   "mimetype": "text/x-python",
   "name": "python",
   "nbconvert_exporter": "python",
   "pygments_lexer": "ipython3",
   "version": "3.9.6"
  },
  "orig_nbformat": 4
 },
 "nbformat": 4,
 "nbformat_minor": 2
}
